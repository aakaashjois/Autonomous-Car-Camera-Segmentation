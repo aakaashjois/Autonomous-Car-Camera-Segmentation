{
 "cells": [
  {
   "cell_type": "code",
   "execution_count": 61,
   "metadata": {},
   "outputs": [],
   "source": [
    "import numpy as np\n",
    "from pathlib import Path\n",
    "from PIL import Image\n",
    "from matplotlib import pyplot as plt\n",
    "\n",
    "from torch.utils.data.dataset import Dataset"
   ]
  },
  {
   "cell_type": "code",
   "execution_count": 20,
   "metadata": {},
   "outputs": [],
   "source": [
    "TOTAL_NUM_IMAGES = 5000\n",
    "\n",
    "TRAIN_SPLIT = 4000\n",
    "VALIDATION_SPLIT = 500\n",
    "\n",
    "TOTAL_NUM_CLASSES = 13"
   ]
  },
  {
   "cell_type": "code",
   "execution_count": 4,
   "metadata": {},
   "outputs": [],
   "source": [
    "data_path = Path('../data')\n",
    "img_path = data_path / 'images'\n",
    "msk_path = data_path / 'masks'\n",
    "\n",
    "images_list = list(img_path.glob('*.png'))\n",
    "masks_list = list(msk_path.glob('*.png'))\n",
    "\n",
    "if len(images_list) != len(masks_list) and len(images_list) != TOTAL_NUM_IMAGES:\n",
    "    raise ValueError('Invalid data')\n",
    "\n",
    "images_list = np.array(images_list)\n",
    "masks_list = np.array(masks_list)\n",
    "    \n",
    "np.random.seed(1)\n",
    "shuffle_idx = np.random.permutation(range(TOTAL_NUM_IMAGES))\n",
    "images_list = images_list[shuffle_idx]\n",
    "masks_list = masks_list[shuffle_idx]\n",
    "\n",
    "train_images = images_list[:TRAIN_SPLIT]\n",
    "train_masks = masks_list[:TRAIN_SPLIT]\n",
    "\n",
    "validation_images = images_list[TRAIN_SPLIT:TRAIN_SPLIT + VALIDATION_SPLIT]\n",
    "validation_masks = masks_list[TRAIN_SPLIT:TRAIN_SPLIT + VALIDATION_SPLIT]\n",
    "\n",
    "test_images = images_list[TRAIN_SPLIT + VALIDATION_SPLIT:]\n",
    "test_masks = masks_list[TRAIN_SPLIT + VALIDATION_SPLIT:]"
   ]
  },
  {
   "cell_type": "code",
   "execution_count": 58,
   "metadata": {},
   "outputs": [],
   "source": [
    "class SegmentationDataset(Dataset):\n",
    "    def __init__(self, image_paths, mask_paths):\n",
    "        self.image_paths = image_paths\n",
    "        self.mask_paths = mask_paths\n",
    "        \n",
    "    def __len__(self):\n",
    "        return len(self.images_path)\n",
    "    \n",
    "    def __getitem__(self, idx):\n",
    "        image = np.array(Image.open(self.image_paths[idx]))\n",
    "        image = image / 255\n",
    "        mask = np.array(Image.open(self.mask_paths[idx]), dtype='int')[:, :, 0]\n",
    "        mask = self.one_hot_encode(mask, TOTAL_NUM_CLASSES)\n",
    "        return image, mask\n",
    "        \n",
    "    def one_hot_encode(self, mask, num_classes):\n",
    "        y = mask.ravel()\n",
    "        one_hot = np.zeros((y.shape[0], num_classes))\n",
    "        one_hot[np.arange(y.shape[0]), y] = 1\n",
    "        return np.reshape(one_hot, mask.shape + (num_classes,))"
   ]
  },
  {
   "cell_type": "code",
   "execution_count": 59,
   "metadata": {},
   "outputs": [],
   "source": [
    "train_dataset = SegmentationDataset(train_images, train_masks)\n",
    "validation_dataset = SegmentationDataset(validation_images, validation_masks)\n",
    "test_dataset = SegmentationDataset(test_images, test_masks)"
   ]
  },
  {
   "cell_type": "code",
   "execution_count": null,
   "metadata": {},
   "outputs": [],
   "source": []
  }
 ],
 "metadata": {
  "kernelspec": {
   "display_name": "Python 3",
   "language": "python",
   "name": "python3"
  },
  "language_info": {
   "codemirror_mode": {
    "name": "ipython",
    "version": 3
   },
   "file_extension": ".py",
   "mimetype": "text/x-python",
   "name": "python",
   "nbconvert_exporter": "python",
   "pygments_lexer": "ipython3",
   "version": "3.7.3"
  }
 },
 "nbformat": 4,
 "nbformat_minor": 2
}
